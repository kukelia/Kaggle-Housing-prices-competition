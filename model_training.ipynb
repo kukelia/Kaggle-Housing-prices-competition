{
 "cells": [
  {
   "cell_type": "code",
   "execution_count": 1,
   "id": "a59b1e80-9886-48d3-bfbe-607c983c59f3",
   "metadata": {},
   "outputs": [],
   "source": [
    "import pandas as pd\n",
    "from matplotlib import pyplot as plt\n",
    "import seaborn as sns\n",
    "from matplotlib.pyplot import figure\n",
    "sns.set()"
   ]
  },
  {
   "cell_type": "code",
   "execution_count": 2,
   "id": "922ae328-8840-4c07-8ff7-3ee43e9b0ba6",
   "metadata": {},
   "outputs": [
    {
     "data": {
      "text/html": [
       "<div>\n",
       "<style scoped>\n",
       "    .dataframe tbody tr th:only-of-type {\n",
       "        vertical-align: middle;\n",
       "    }\n",
       "\n",
       "    .dataframe tbody tr th {\n",
       "        vertical-align: top;\n",
       "    }\n",
       "\n",
       "    .dataframe thead th {\n",
       "        text-align: right;\n",
       "    }\n",
       "</style>\n",
       "<table border=\"1\" class=\"dataframe\">\n",
       "  <thead>\n",
       "    <tr style=\"text-align: right;\">\n",
       "      <th></th>\n",
       "      <th>Id</th>\n",
       "      <th>MSSubClass</th>\n",
       "      <th>MSZoning</th>\n",
       "      <th>LotFrontage</th>\n",
       "      <th>LotArea</th>\n",
       "      <th>Street</th>\n",
       "      <th>Alley</th>\n",
       "      <th>LotShape</th>\n",
       "      <th>LandContour</th>\n",
       "      <th>Utilities</th>\n",
       "      <th>...</th>\n",
       "      <th>PoolArea</th>\n",
       "      <th>PoolQC</th>\n",
       "      <th>Fence</th>\n",
       "      <th>MiscFeature</th>\n",
       "      <th>MiscVal</th>\n",
       "      <th>MoSold</th>\n",
       "      <th>YrSold</th>\n",
       "      <th>SaleType</th>\n",
       "      <th>SaleCondition</th>\n",
       "      <th>SalePrice</th>\n",
       "    </tr>\n",
       "  </thead>\n",
       "  <tbody>\n",
       "    <tr>\n",
       "      <th>0</th>\n",
       "      <td>1</td>\n",
       "      <td>60</td>\n",
       "      <td>RL</td>\n",
       "      <td>65.0</td>\n",
       "      <td>8450</td>\n",
       "      <td>Pave</td>\n",
       "      <td>NaN</td>\n",
       "      <td>Reg</td>\n",
       "      <td>Lvl</td>\n",
       "      <td>AllPub</td>\n",
       "      <td>...</td>\n",
       "      <td>0</td>\n",
       "      <td>NaN</td>\n",
       "      <td>NaN</td>\n",
       "      <td>NaN</td>\n",
       "      <td>0</td>\n",
       "      <td>2</td>\n",
       "      <td>2008</td>\n",
       "      <td>WD</td>\n",
       "      <td>Normal</td>\n",
       "      <td>208500</td>\n",
       "    </tr>\n",
       "    <tr>\n",
       "      <th>1</th>\n",
       "      <td>2</td>\n",
       "      <td>20</td>\n",
       "      <td>RL</td>\n",
       "      <td>80.0</td>\n",
       "      <td>9600</td>\n",
       "      <td>Pave</td>\n",
       "      <td>NaN</td>\n",
       "      <td>Reg</td>\n",
       "      <td>Lvl</td>\n",
       "      <td>AllPub</td>\n",
       "      <td>...</td>\n",
       "      <td>0</td>\n",
       "      <td>NaN</td>\n",
       "      <td>NaN</td>\n",
       "      <td>NaN</td>\n",
       "      <td>0</td>\n",
       "      <td>5</td>\n",
       "      <td>2007</td>\n",
       "      <td>WD</td>\n",
       "      <td>Normal</td>\n",
       "      <td>181500</td>\n",
       "    </tr>\n",
       "    <tr>\n",
       "      <th>2</th>\n",
       "      <td>3</td>\n",
       "      <td>60</td>\n",
       "      <td>RL</td>\n",
       "      <td>68.0</td>\n",
       "      <td>11250</td>\n",
       "      <td>Pave</td>\n",
       "      <td>NaN</td>\n",
       "      <td>IR1</td>\n",
       "      <td>Lvl</td>\n",
       "      <td>AllPub</td>\n",
       "      <td>...</td>\n",
       "      <td>0</td>\n",
       "      <td>NaN</td>\n",
       "      <td>NaN</td>\n",
       "      <td>NaN</td>\n",
       "      <td>0</td>\n",
       "      <td>9</td>\n",
       "      <td>2008</td>\n",
       "      <td>WD</td>\n",
       "      <td>Normal</td>\n",
       "      <td>223500</td>\n",
       "    </tr>\n",
       "    <tr>\n",
       "      <th>3</th>\n",
       "      <td>4</td>\n",
       "      <td>70</td>\n",
       "      <td>RL</td>\n",
       "      <td>60.0</td>\n",
       "      <td>9550</td>\n",
       "      <td>Pave</td>\n",
       "      <td>NaN</td>\n",
       "      <td>IR1</td>\n",
       "      <td>Lvl</td>\n",
       "      <td>AllPub</td>\n",
       "      <td>...</td>\n",
       "      <td>0</td>\n",
       "      <td>NaN</td>\n",
       "      <td>NaN</td>\n",
       "      <td>NaN</td>\n",
       "      <td>0</td>\n",
       "      <td>2</td>\n",
       "      <td>2006</td>\n",
       "      <td>WD</td>\n",
       "      <td>Abnorml</td>\n",
       "      <td>140000</td>\n",
       "    </tr>\n",
       "    <tr>\n",
       "      <th>4</th>\n",
       "      <td>5</td>\n",
       "      <td>60</td>\n",
       "      <td>RL</td>\n",
       "      <td>84.0</td>\n",
       "      <td>14260</td>\n",
       "      <td>Pave</td>\n",
       "      <td>NaN</td>\n",
       "      <td>IR1</td>\n",
       "      <td>Lvl</td>\n",
       "      <td>AllPub</td>\n",
       "      <td>...</td>\n",
       "      <td>0</td>\n",
       "      <td>NaN</td>\n",
       "      <td>NaN</td>\n",
       "      <td>NaN</td>\n",
       "      <td>0</td>\n",
       "      <td>12</td>\n",
       "      <td>2008</td>\n",
       "      <td>WD</td>\n",
       "      <td>Normal</td>\n",
       "      <td>250000</td>\n",
       "    </tr>\n",
       "  </tbody>\n",
       "</table>\n",
       "<p>5 rows × 81 columns</p>\n",
       "</div>"
      ],
      "text/plain": [
       "   Id  MSSubClass MSZoning  LotFrontage  LotArea Street Alley LotShape  \\\n",
       "0   1          60       RL         65.0     8450   Pave   NaN      Reg   \n",
       "1   2          20       RL         80.0     9600   Pave   NaN      Reg   \n",
       "2   3          60       RL         68.0    11250   Pave   NaN      IR1   \n",
       "3   4          70       RL         60.0     9550   Pave   NaN      IR1   \n",
       "4   5          60       RL         84.0    14260   Pave   NaN      IR1   \n",
       "\n",
       "  LandContour Utilities  ... PoolArea PoolQC Fence MiscFeature MiscVal MoSold  \\\n",
       "0         Lvl    AllPub  ...        0    NaN   NaN         NaN       0      2   \n",
       "1         Lvl    AllPub  ...        0    NaN   NaN         NaN       0      5   \n",
       "2         Lvl    AllPub  ...        0    NaN   NaN         NaN       0      9   \n",
       "3         Lvl    AllPub  ...        0    NaN   NaN         NaN       0      2   \n",
       "4         Lvl    AllPub  ...        0    NaN   NaN         NaN       0     12   \n",
       "\n",
       "  YrSold  SaleType  SaleCondition  SalePrice  \n",
       "0   2008        WD         Normal     208500  \n",
       "1   2007        WD         Normal     181500  \n",
       "2   2008        WD         Normal     223500  \n",
       "3   2006        WD        Abnorml     140000  \n",
       "4   2008        WD         Normal     250000  \n",
       "\n",
       "[5 rows x 81 columns]"
      ]
     },
     "execution_count": 2,
     "metadata": {},
     "output_type": "execute_result"
    }
   ],
   "source": [
    "data = pd.read_csv(\"data/train.csv\")\n",
    "data.head()"
   ]
  },
  {
   "cell_type": "code",
   "execution_count": 3,
   "id": "db151760-30c0-4dc9-b998-a04685154e1e",
   "metadata": {},
   "outputs": [],
   "source": [
    "from sklearn.model_selection import train_test_split\n",
    "\n",
    "X = data.drop('SalePrice', axis=1)\n",
    "y = data.SalePrice\n",
    "X_test = pd.read_csv('data/test.csv')\n",
    "\n",
    "X_train, X_val ,y_train, y_val = train_test_split(X,y, random_state=16)"
   ]
  },
  {
   "cell_type": "code",
   "execution_count": 4,
   "id": "5c903bd8-44dc-4bc6-83dc-eb9ab80e19cf",
   "metadata": {},
   "outputs": [],
   "source": [
    "from sklearn.base import BaseEstimator, TransformerMixin\n",
    "from sklearn.compose import ColumnTransformer\n",
    "\n",
    "class PandasTransform(BaseEstimator, TransformerMixin):\n",
    "    \n",
    "    def __init__(self):\n",
    "        \n",
    "        self.columns_dropped = ['LotFrontage', 'Alley', 'FireplaceQu', 'PoolQC', 'Fence', 'MiscFeature','YearRemodAdd','YearBuilt','MoSold', 'YrSold','GarageType','GarageYrBlt','GarageFinish','GarageArea','GarageCond','Exterior2nd']\n",
    "        \n",
    "        self.cat_col = ['MSZoning','Street','LotShape',\n",
    "         'LandContour','Utilities','LotConfig','LandSlope','Condition1','Condition2','BldgType','HouseStyle','RoofStyle','RoofMatl','MasVnrType','ExterQual','ExterCond','Foundation','BsmtQual','BsmtCond','BsmtExposure','BsmtFinType1','BsmtFinType2',\n",
    "         'Heating','HeatingQC','CentralAir','Electrical','KitchenQual','Functional','GarageQual','PavedDrive','SaleType','SaleCondition']\n",
    "        \n",
    "        self.qc_order = {\"na\":0,\"po\":1, \"fa\":2, \"ta\":3,'gd':4,'ex':5}\n",
    "        \n",
    "        self.col_to_ordinal = ['ExterQual','ExterCond','BsmtQual','BsmtCond','HeatingQC','KitchenQual','GarageQual']\n",
    "        \n",
    "        self.catcol_wout_ordinal = ['MSZoning','Street', 'LotShape',\n",
    "         'LandContour', 'Utilities', 'LotConfig', 'LandSlope', 'Condition1', 'Condition2', 'BldgType', 'HouseStyle', 'RoofStyle', 'RoofMatl', 'MasVnrType', 'Foundation', 'BsmtExposure', 'BsmtFinType1',\n",
    "         'BsmtFinType2', 'Heating', 'CentralAir', 'Electrical', 'Functional', 'PavedDrive', 'SaleType', 'SaleCondition']\n",
    "        \n",
    "        self.g1 = [['MeadowV', 'BrDale', 'IDOTRR'],['OldTown', 'BrkSide','Edwards','Sawyer','NPkVill','SWISU','NAmes','Blueste','Mitchel','SawyerW'], ['NWAmes','Gilbert','Blmngtn','CollgCr','Crawfor','ClearCr','Somerst',\n",
    "          'Veenker'],['Timber', 'StoneBr'],['NridgHt', 'NoRidge']]\n",
    "        \n",
    "        self.g2 = ['BrkComm',['AsphShn', 'CBlock', 'AsbShng'],['Wd Sdng', 'MetalSd', 'WdShing', 'HdBoard'],['Plywood', 'Stucco', 'BrkFace'],['VinylSd', 'CemntBd'], ['ImStucc', 'Stone']]\n",
    "        \n",
    "    def fit(self, X, y= None):\n",
    "        return self\n",
    "    \n",
    "    def transform(self, X):\n",
    "        X = X.drop(self.columns_dropped,axis=1)\n",
    "        for col in self.cat_col:\n",
    "            X[col] = X[col].str.lower()\n",
    "        X[self.col_to_ordinal] = X[self.col_to_ordinal].fillna(\"na\") \n",
    "        X[self.col_to_ordinal] = X[self.col_to_ordinal].replace(self.qc_order)\n",
    "        \n",
    "        for x in range(len(self.g1)):\n",
    "            X = X.replace(self.g1[x], x)\n",
    "            \n",
    "        for x in range(len(self.g2)):\n",
    "            X = X.replace(self.g2[x], x)\n",
    "        \n",
    "        X = X.set_index(X['Id'])\n",
    "        X = X.drop('Id',axis=1)\n",
    "        \n",
    "        return X"
   ]
  },
  {
   "cell_type": "code",
   "execution_count": 5,
   "id": "1bddf211-47d7-4f6e-835c-d8f672bf0a9b",
   "metadata": {},
   "outputs": [],
   "source": [
    "from sklearn.pipeline import Pipeline\n",
    "from sklearn.compose import ColumnTransformer\n",
    "from sklearn.preprocessing import OneHotEncoder\n",
    "from sklearn.impute import SimpleImputer\n",
    "\n",
    "num_col = ['MSSubClass', 'LotArea', 'OverallQual', 'OverallCond', 'MasVnrArea', 'ExterQual', 'ExterCond', 'BsmtQual', 'BsmtCond', 'BsmtFinSF1', 'BsmtFinSF2', 'BsmtUnfSF', 'TotalBsmtSF', 'HeatingQC', '1stFlrSF', '2ndFlrSF', 'LowQualFinSF', 'GrLivArea', 'BsmtFullBath', 'BsmtHalfBath', 'FullBath', 'HalfBath', 'BedroomAbvGr', 'KitchenAbvGr', 'KitchenQual', 'TotRmsAbvGrd', 'Fireplaces', 'GarageCars', 'GarageQual', 'WoodDeckSF', 'OpenPorchSF', 'EnclosedPorch', '3SsnPorch', 'ScreenPorch', 'PoolArea', 'MiscVal']\n",
    "cat_col = ['MSZoning','Street', 'LotShape','LandContour', 'Utilities', 'LotConfig', 'LandSlope', 'Condition1', 'Condition2', 'BldgType', 'HouseStyle', 'RoofStyle', 'RoofMatl', 'MasVnrType', 'Foundation', 'BsmtExposure', 'BsmtFinType1','BsmtFinType2', 'Heating', 'CentralAir', 'Electrical', 'Functional', 'PavedDrive', 'SaleType', 'SaleCondition']\n",
    "\n",
    "custom_pipeline = Pipeline([\n",
    "    ('pandas_transform', PandasTransform())\n",
    "    ])\n",
    "cat_pipeline = Pipeline([\n",
    "    ('cat_encoder', OneHotEncoder(handle_unknown='ignore'))\n",
    "    ])\n",
    "preprocessor = ColumnTransformer(transformers=[ #all transformations at same time\n",
    "    ('cat', cat_pipeline, cat_col),\n",
    "    ('num', SimpleImputer(), num_col)\n",
    "    ])"
   ]
  },
  {
   "cell_type": "code",
   "execution_count": 21,
   "id": "ff49f85d-3139-4aba-8494-1d41b08e7f08",
   "metadata": {},
   "outputs": [],
   "source": [
    "from sklearn.preprocessing import StandardScaler\n",
    "def make_pipeline(model):\n",
    "    return Pipeline([\n",
    "        ('custom', PandasTransform()),\n",
    "        ('preprocessor', preprocessor),\n",
    "        ('scale', StandardScaler()),\n",
    "        ('model', model),\n",
    "        ])"
   ]
  },
  {
   "cell_type": "code",
   "execution_count": 57,
   "id": "423e11bc-1ce1-4496-935f-d4566e883674",
   "metadata": {},
   "outputs": [
    {
     "name": "stdout",
     "output_type": "stream",
     "text": [
      "Fitting 3 folds for each of 8 candidates, totalling 24 fits\n"
     ]
    }
   ],
   "source": [
    "from xgboost import XGBRegressor\n",
    "from sklearn.model_selection import GridSearchCV\n",
    "\n",
    "\n",
    "pipeline_xgb = make_pipeline( XGBRegressor() )\n",
    "\n",
    "param_grid = {'model__n_estimators':(100,500),\n",
    "              'model__learning_rate':(0.05,0.1,0.5,1)\n",
    "              }\n",
    "\n",
    "\n",
    "cv_model_search = GridSearchCV(pipeline_xgb, \n",
    "                               param_grid, \n",
    "                               cv = 3,\n",
    "                               refit=True, \n",
    "                               verbose = 1,\n",
    "                              error_score='raise',\n",
    "                              scoring='neg_mean_absolute_error') \n",
    "\n",
    "\n",
    "results = cv_model_search.fit(X_train,y_train)"
   ]
  },
  {
   "cell_type": "code",
   "execution_count": 80,
   "id": "499c279b-c53b-4eaa-b89a-31ba3d2b2cd7",
   "metadata": {},
   "outputs": [
    {
     "data": {
      "text/plain": [
       "17400.75808005137"
      ]
     },
     "execution_count": 80,
     "metadata": {},
     "output_type": "execute_result"
    }
   ],
   "source": [
    "-results.score(X_val,y_val)"
   ]
  },
  {
   "cell_type": "code",
   "execution_count": 81,
   "id": "771cef44-63dd-4bcf-b274-f8779068c27b",
   "metadata": {},
   "outputs": [
    {
     "data": {
      "text/plain": [
       "17555.24067494292"
      ]
     },
     "execution_count": 81,
     "metadata": {},
     "output_type": "execute_result"
    }
   ],
   "source": [
    "-results.best_score_"
   ]
  },
  {
   "cell_type": "code",
   "execution_count": 59,
   "id": "46f25206-f957-4099-bdab-731c86b99948",
   "metadata": {},
   "outputs": [
    {
     "data": {
      "text/plain": [
       "{'model__learning_rate': 0.1, 'model__n_estimators': 100}"
      ]
     },
     "execution_count": 59,
     "metadata": {},
     "output_type": "execute_result"
    }
   ],
   "source": [
    "results.best_params_"
   ]
  },
  {
   "cell_type": "markdown",
   "id": "5f0580ae-f7a9-4d8c-beae-b093d4ab1d17",
   "metadata": {},
   "source": [
    "How good is this first result of 17400.75 in the val set?"
   ]
  },
  {
   "cell_type": "code",
   "execution_count": 89,
   "id": "affe0183-d8e9-4122-8130-b9758b2cd8ab",
   "metadata": {},
   "outputs": [
    {
     "data": {
      "text/plain": [
       "79442.50288288663"
      ]
     },
     "execution_count": 89,
     "metadata": {},
     "output_type": "execute_result"
    }
   ],
   "source": [
    "y.std()"
   ]
  },
  {
   "cell_type": "markdown",
   "id": "13b3719a-35e3-4da1-8fd5-920ee7bc6fe0",
   "metadata": {},
   "source": [
    "The label's standard deviation is 79442, so my std deviation (mse) is minor, so better? Ask Teacher!"
   ]
  },
  {
   "cell_type": "code",
   "execution_count": 65,
   "id": "a901a342-3190-4d95-991f-cb5f8d404aec",
   "metadata": {},
   "outputs": [],
   "source": [
    "from sklearn.ensemble import RandomForestRegressor\n",
    "\n",
    "pipeline_rforest = make_pipeline( RandomForestRegressor() )\n",
    "param_grid3 = {'model__n_estimators':[50,100,250,500,1000] #don't ask why it's 3 instead of 2\n",
    "              }\n",
    "\n",
    "\n",
    "cv_model_search3 = GridSearchCV( pipeline_rforest, \n",
    "                               param_grid3, \n",
    "                               cv = 3,\n",
    "                               refit=True,\n",
    "                              error_score='raise',\n",
    "                               scoring='neg_mean_absolute_error') \n",
    "\n",
    "\n",
    "results3 = cv_model_search3.fit(X_train,y_train)"
   ]
  },
  {
   "cell_type": "code",
   "execution_count": 94,
   "id": "0345c4e9-ceb3-4c83-9b10-ba1159798a13",
   "metadata": {},
   "outputs": [
    {
     "data": {
      "text/plain": [
       "19377.95783346379"
      ]
     },
     "execution_count": 94,
     "metadata": {},
     "output_type": "execute_result"
    }
   ],
   "source": [
    "-results3.score(X_val,y_val)"
   ]
  },
  {
   "cell_type": "code",
   "execution_count": 66,
   "id": "55462159-dcc8-413e-9e03-cc6db465c65e",
   "metadata": {},
   "outputs": [
    {
     "data": {
      "text/plain": [
       "18245.208518808435"
      ]
     },
     "execution_count": 66,
     "metadata": {},
     "output_type": "execute_result"
    }
   ],
   "source": [
    "-results3.best_score_"
   ]
  },
  {
   "cell_type": "code",
   "execution_count": 67,
   "id": "ab6dfa56-d041-4025-b344-8ed84af9b5ad",
   "metadata": {},
   "outputs": [
    {
     "data": {
      "text/plain": [
       "{'model__n_estimators': 1000}"
      ]
     },
     "execution_count": 67,
     "metadata": {},
     "output_type": "execute_result"
    }
   ],
   "source": [
    "results3.best_params_"
   ]
  },
  {
   "cell_type": "code",
   "execution_count": 77,
   "id": "7d6e25fa-458b-4ea3-bd27-e86d7ad6bb40",
   "metadata": {},
   "outputs": [
    {
     "data": {
      "text/plain": [
       "array([-18626.8692481 , -18538.62107763, -18355.63308267, -18342.522609  ,\n",
       "       -18245.20851881])"
      ]
     },
     "execution_count": 77,
     "metadata": {},
     "output_type": "execute_result"
    }
   ],
   "source": [
    "results3.cv_results_['mean_test_score']"
   ]
  },
  {
   "cell_type": "code",
   "execution_count": 79,
   "id": "2338ce34-f5a9-4144-b382-2727bcb5cf2f",
   "metadata": {},
   "outputs": [
    {
     "data": {
      "image/png": "[encoded data removed]",
      "text/plain": [
       "<Figure size 432x288 with 1 Axes>"
      ]
     },
     "metadata": {},
     "output_type": "display_data"
    }
   ],
   "source": [
    "plt.plot(results3.param_grid['model__n_estimators'], results3.cv_results_['mean_test_score']);"
   ]
  },
  {
   "cell_type": "markdown",
   "id": "8dd26f05-896b-41c0-b148-e5f6a40b6d63",
   "metadata": {},
   "source": [
    "Let's try with bigger n_estimators"
   ]
  },
  {
   "cell_type": "code",
   "execution_count": 90,
   "id": "27e6f60f-9474-447b-bcae-1600814bbce7",
   "metadata": {},
   "outputs": [],
   "source": [
    "param_grid4 = {'model__n_estimators':[1000,1500,2000]\n",
    "              }\n",
    "\n",
    "\n",
    "cv_model_search4 = GridSearchCV( pipeline_rforest, \n",
    "                               param_grid4, \n",
    "                               cv = 3,\n",
    "                               refit=True,\n",
    "                              error_score='raise',\n",
    "                               scoring='neg_mean_absolute_error') \n",
    "\n",
    "\n",
    "results4 = cv_model_search4.fit(X_train,y_train)"
   ]
  },
  {
   "cell_type": "code",
   "execution_count": 93,
   "id": "a8db5fd9-ef14-4873-8878-acad8cd26df9",
   "metadata": {},
   "outputs": [
    {
     "data": {
      "text/plain": [
       "19330.137218591"
      ]
     },
     "execution_count": 93,
     "metadata": {},
     "output_type": "execute_result"
    }
   ],
   "source": [
    "-results4.score(X_val,y_val)"
   ]
  },
  {
   "cell_type": "code",
   "execution_count": 91,
   "id": "994aeb09-0b52-4ddf-8408-a782dd680f0c",
   "metadata": {},
   "outputs": [
    {
     "data": {
      "text/plain": [
       "18262.66972970211"
      ]
     },
     "execution_count": 91,
     "metadata": {},
     "output_type": "execute_result"
    }
   ],
   "source": [
    "-results4.best_score_"
   ]
  },
  {
   "cell_type": "code",
   "execution_count": 92,
   "id": "505ca24d-c322-4283-aac7-8087f68901de",
   "metadata": {},
   "outputs": [
    {
     "data": {
      "text/plain": [
       "{'model__n_estimators': 2000}"
      ]
     },
     "execution_count": 92,
     "metadata": {},
     "output_type": "execute_result"
    }
   ],
   "source": [
    "results4.best_params_"
   ]
  },
  {
   "cell_type": "markdown",
   "id": "989f093e-bf28-4a13-b7a1-d7f6e8d4a0b3",
   "metadata": {},
   "source": [
    "No significant upgrade with random forests.\n",
    "XGB is the winner in this case"
   ]
  },
  {
   "cell_type": "code",
   "execution_count": 97,
   "id": "6134c606-e004-4d28-bc56-54f9ddb94f5c",
   "metadata": {},
   "outputs": [],
   "source": [
    "xgb_final = make_pipeline( XGBRegressor(learning_rate=0.1, n_estimators=100) )\n",
    "xgb_final.fit(X,y)\n",
    "\n",
    "preds = xgb_final.predict(X_test)\n",
    "\n",
    "output = pd.DataFrame({'Id': X_test.Id,\n",
    "                       'SalePrice': preds})\n",
    "output.to_csv('./submission2.csv', index=False)"
   ]
  },
  {
   "cell_type": "markdown",
   "id": "f21eff97-725f-47c5-99dc-d60c5dfa40b1",
   "metadata": {},
   "source": [
    "Result = top 30 % in the kaggle competition, with mse of 0.13618"
   ]
  }
 ],
 "metadata": {
  "kernelspec": {
   "display_name": "Python 3 (ipykernel)",
   "language": "python",
   "name": "python3"
  },
  "language_info": {
   "codemirror_mode": {
    "name": "ipython",
    "version": 3
   },
   "file_extension": ".py",
   "mimetype": "text/x-python",
   "name": "python",
   "nbconvert_exporter": "python",
   "pygments_lexer": "ipython3",
   "version": "3.9.11"
  }
 },
 "nbformat": 4,
 "nbformat_minor": 5
}
