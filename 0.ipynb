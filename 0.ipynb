{
 "cells": [
  {
   "cell_type": "markdown",
   "id": "404d0e5d-d07a-435e-a460-587ca8161895",
   "metadata": {},
   "source": [
    "Basic"
   ]
  },
  {
   "cell_type": "code",
   "execution_count": null,
   "id": "6146f434-4481-4cf4-922f-4e3706836c1f",
   "metadata": {},
   "outputs": [],
   "source": [
    "import pandas as pd"
   ]
  },
  {
   "cell_type": "markdown",
   "id": "0af0bc95-03e9-471b-9aa2-9fa874a21113",
   "metadata": {},
   "source": [
    "Preprocessing"
   ]
  },
  {
   "cell_type": "code",
   "execution_count": null,
   "id": "6a669f8c-40c2-4096-b44c-a40299a07510",
   "metadata": {},
   "outputs": [],
   "source": [
    "from sklearn.compose import ColumnTransformer\n",
    "from sklearn.pipeline import Pipeline\n",
    "\n",
    "from sklearn.impute import SimpleImputer\n",
    "from sklearn.preprocessing import OneHotEncoder"
   ]
  },
  {
   "cell_type": "markdown",
   "id": "afb93fe3-5261-4716-a7d8-fe2e85f1fed6",
   "metadata": {},
   "source": [
    "Split"
   ]
  },
  {
   "cell_type": "code",
   "execution_count": null,
   "id": "354886fd-f15c-4e54-8cea-e81672825418",
   "metadata": {},
   "outputs": [],
   "source": [
    "from sklearn.model_selection import train_test_split"
   ]
  },
  {
   "cell_type": "markdown",
   "id": "bf52a8c0-a66f-41ae-b6e3-c8a268faf8aa",
   "metadata": {},
   "source": [
    "Cross val"
   ]
  },
  {
   "cell_type": "code",
   "execution_count": null,
   "id": "34ff10c8-ea8a-4833-84f8-a67440f6a3a7",
   "metadata": {},
   "outputs": [],
   "source": [
    "from sklearn.model_selection import cross_val_score"
   ]
  },
  {
   "cell_type": "markdown",
   "id": "3e0fa007-fdad-4136-a9da-9b6130b2fb97",
   "metadata": {},
   "source": [
    "MODELS"
   ]
  },
  {
   "cell_type": "code",
   "execution_count": 1,
   "id": "0064e00e-6380-417b-8cf9-d3f15968b0cf",
   "metadata": {},
   "outputs": [],
   "source": [
    "#REGRESSION\n",
    "from sklearn import tree    model = tree.DecisionTreeClassifier()\n",
    "from sklearn.ensemble import RandomForestRegressor\n",
    "from sklearn.linear_model import LinearRegression\n",
    "#CLASSIFICATION\n",
    "from sklearn import svm    model = svm.SVC()"
   ]
  },
  {
   "cell_type": "markdown",
   "id": "e21cc1a3-928d-46ef-b57a-89e8de7e1625",
   "metadata": {},
   "source": [
    "Column types"
   ]
  },
  {
   "cell_type": "code",
   "execution_count": null,
   "id": "1bf7ad8f-c8b0-4899-a2ec-2146b35c928f",
   "metadata": {},
   "outputs": [],
   "source": [
    "cat_cols = [cname for cname in X_train_full.columns if\n",
    "                    X_train_full[cname].nunique() < 10 and \n",
    "                    X_train_full[cname].dtype == \"object\"]\n",
    "\n",
    "num_cols = [cname for cname in X_train_full.columns if \n",
    "                X_train_full[cname].dtype in ['int64', 'float64']]"
   ]
  },
  {
   "cell_type": "markdown",
   "id": "0cd80dde-7ce1-47db-83a7-d79495982198",
   "metadata": {},
   "source": [
    "KAGGLE"
   ]
  },
  {
   "cell_type": "code",
   "execution_count": null,
   "id": "0da5ac75-89c2-4a7e-80b2-2724f3acd8d0",
   "metadata": {},
   "outputs": [],
   "source": [
    "output = pd.DataFrame({'Id': test_id,\n",
    "                       'SalePrice': preds})\n",
    "output.to_csv('./submission.csv', index=False)"
   ]
  }
 ],
 "metadata": {
  "kernelspec": {
   "display_name": "Python 3 (ipykernel)",
   "language": "python",
   "name": "python3"
  },
  "language_info": {
   "codemirror_mode": {
    "name": "ipython",
    "version": 3
   },
   "file_extension": ".py",
   "mimetype": "text/x-python",
   "name": "python",
   "nbconvert_exporter": "python",
   "pygments_lexer": "ipython3",
   "version": "3.9.7"
  }
 },
 "nbformat": 4,
 "nbformat_minor": 5
}
